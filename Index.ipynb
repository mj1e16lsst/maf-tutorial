{
 "cells": [
  {
   "cell_type": "markdown",
   "metadata": {},
   "source": [
    "##Index##\n",
    "\n",
    "This notebook serves as an 'index' to the other sims_maf tutorials, providing a short description of their contents. \n",
    "\n",
    "---\n",
    "\n",
    "### Installing and updating MAF ### \n",
    "If you have not installed the LSST software stack and sims_maf (an LSST software package), this can be done by either:\n",
    "\n",
    "-- installing from binaries, using conda\n",
    "    * Install anaconda (and conda) from the [Anaconda](https://store.continuum.io/cshop/anaconda/) website\n",
    "    * Add the LSST software channel\n",
    "        > conda config --add channels http://eupsforge.net/conda/dev \n",
    "    * Install sims_maf\n",
    "        > conda install lsst-sims-maf\n",
    "    * Activate eups and setup sims_maf (you must do this in every new shell)\n",
    "        > source eups-setups.sh\n",
    "        > setup sims_maf\n",
    "    * To later update MAF: \n",
    "        > conda update lsst-sims-maf\n",
    "-- or installing from source -- note that this would let you use alternate python installations, if needed.\n",
    "    * Follow the instructions to install [the base LSST software](https://confluence.lsstcorp.org/display/SIM/Catalogs+and+MAF) (note the link to special cases of using your own python)\n",
    "    * Activate eups and install sims_maf\n",
    "        > source ~/lsst/loadLSST.csh\n",
    "        > eups distrib install sims_maf -t sims\n",
    "    * Activate eups (if needed) and set up sims_maf (you must do this in every new shell)\n",
    "        > source ~/lsst/loadLSST.csh\n",
    "        > setup sims_maf -t sims\n",
    "    * To later update MAF:\n",
    "        > source ~/lsst/loadLSST.csh\n",
    "        > eups distrib install sims_maf -t sims\n",
    "\n",
    "---\n",
    "\n",
    "Note that all of these tutorials expect sims_maf to be setup in your shell, and it must be sims_maf version 1.1 or better.  \n",
    "\n",
    "To check which version of sims_maf you are using, you can enter the following commands at a python prompt:\n",
    ">`import lsst.sims.maf`<br>\n",
    ">`lsst.sims.maf.__version__`\n",
    "\n"
   ]
  },
  {
   "cell_type": "markdown",
   "metadata": {},
   "source": [
    "---\n",
    "\n",
    "## Tutorials: Start here ##\n",
    "\n",
    "If you are new to ipython notebooks and uncertain if your environment is set up correctly, you may find it helpful to start with the [TestNotebook](./TestNotebook.ipynb). In this notebook, you can see how the basic ipython environment works. \n",
    "\n",
    "Start with the [Introduction](./Introduction%20Notebook.ipynb) to start using MAF with a hands-on example. If you want some overview slides, we also have an [introductory talk](https://github.com/LSST-nonproject/sims_maf_contrib/blob/master/workshops/UK_2015/Cambridge_MAFIntro.pdf). \n",
    "\n",
    "To learn about various slicer options, look at the [Slicers](./Slicers.ipynb) notebook."
   ]
  },
  {
   "cell_type": "markdown",
   "metadata": {
    "collapsed": true
   },
   "source": [
    "## More advanced capabilities##\n",
    "\n",
    "[Stackers](./Stackers.ipynb) Example of using Stackers to generate new columns on-the-fly for each opsim visit (for example, adding \"Hour Angle\"). The [Dithers](./Dithers.ipynb) notebook may also be useful to understand stackers.\n",
    "\n",
    "[Plotting Examples](./Plotting Examples.ipynb) Examples of generating metric data and then using this to create many different kinds of plots. This illustrates using the plotHandler class, as well as plotting data directly from a metricBundle.\n",
    "\n",
    "[Dithers](./Dithers.ipynb) This notebook demonstrates the different dithering patterns available within MAF. It also shows more examples of generating plots, with the plotHandler class as well as directly with metricBundles. It also introduces the use of metric data outside of the MAF metricBundle, including read data back from disk. There are lots of concepts used in this notebook (we'll split it up eventually). \n",
    "\n",
    "[MAFCameraGeom](./MAFCameraGeom.ipynb) In this notebook we demonstrate using the MAF camera footprint geometry - that is, including the chipgaps and realistic focal plane in your metric calculations. \n",
    "\n",
    "[Complex Metrics](./Complex Metrics.ipynb) This notebook illustrates using a 'complex' metric - that is, a metric which calculates more than one value at a time. \n",
    "\n",
    "[Compare Runs](./Compare Runs.ipynb) This notebook looks at how you can grab summary statistic data from the results databases of multiple opsim runs (where you've already calculated metrics and generated summary statistics). With the summary statistics you could compare (for example) the number of visits or the mean proper motion accuracy, from many different simulated surveys. \n",
    "\n",
    "[Writing a New Metric](./Writing A New Metric.ipynb) If it's time to write your own metric, this is where you'll find a demonstration of how to do it.\n",
    "\n",
    "[Exploring Light Curves](./PullLightCurves.ipynb) Often, one just wants to see what an LSST light curve will look like. This example pulls all the observations from a single ra,dec position and plots possible SNe light curves for taht point."
   ]
  },
  {
   "cell_type": "code",
   "execution_count": null,
   "metadata": {
    "collapsed": true
   },
   "outputs": [],
   "source": []
  }
 ],
 "metadata": {
  "kernelspec": {
   "display_name": "Python 2",
   "language": "python",
   "name": "python2"
  },
  "language_info": {
   "codemirror_mode": {
    "name": "ipython",
    "version": 2
   },
   "file_extension": ".py",
   "mimetype": "text/x-python",
   "name": "python",
   "nbconvert_exporter": "python",
   "pygments_lexer": "ipython2",
   "version": "2.7.10"
  }
 },
 "nbformat": 4,
 "nbformat_minor": 0
}
